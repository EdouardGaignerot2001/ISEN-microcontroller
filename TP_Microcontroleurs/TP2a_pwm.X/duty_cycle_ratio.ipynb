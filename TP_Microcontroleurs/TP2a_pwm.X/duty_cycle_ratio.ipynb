{
 "cells": [
  {
   "cell_type": "code",
   "execution_count": 50,
   "metadata": {},
   "outputs": [],
   "source": [
    "DCHDCL = 408 # 10 bit (max 1023)\n",
    "PR2 = 0x65 # 8 bit (max 255)"
   ]
  },
  {
   "cell_type": "code",
   "execution_count": 51,
   "metadata": {},
   "outputs": [
    {
     "data": {
      "text/plain": [
       "1.0"
      ]
     },
     "execution_count": 51,
     "metadata": {},
     "output_type": "execute_result"
    }
   ],
   "source": [
    "DUTY_CYCLE = DCHDCL / (4*(PR2 + 1))\n",
    "DUTY_CYCLE"
   ]
  },
  {
   "cell_type": "code",
   "execution_count": 52,
   "metadata": {},
   "outputs": [
    {
     "name": "stdout",
     "output_type": "stream",
     "text": [
      "DCH:  0x66\n",
      "DCL:  0x0\n"
     ]
    }
   ],
   "source": [
    "# DCH TO HEX décalé de 2\n",
    "DCH = hex(DCHDCL >> 2)\n",
    "print(\"DCH: \", DCH)\n",
    "DCL = hex(DCHDCL & 0x3)\n",
    "print(\"DCL: \", DCL)"
   ]
  },
  {
   "cell_type": "code",
   "execution_count": 53,
   "metadata": {},
   "outputs": [],
   "source": [
    "DCHDCL = 41 # 10 bit (max 1023)\n",
    "PR2 = 0x65 # 8 bit (max 255)"
   ]
  },
  {
   "cell_type": "code",
   "execution_count": 54,
   "metadata": {},
   "outputs": [
    {
     "data": {
      "text/plain": [
       "0.10049019607843138"
      ]
     },
     "execution_count": 54,
     "metadata": {},
     "output_type": "execute_result"
    }
   ],
   "source": [
    "DUTY_CYCLE = DCHDCL / (4*(PR2 + 1))\n",
    "DUTY_CYCLE"
   ]
  },
  {
   "cell_type": "code",
   "execution_count": 55,
   "metadata": {},
   "outputs": [
    {
     "name": "stdout",
     "output_type": "stream",
     "text": [
      "DCH:  0xa\n",
      "DCL:  0x1\n"
     ]
    }
   ],
   "source": [
    "# DCH TO HEX décalé de 2\n",
    "DCH = hex(DCHDCL >> 2)\n",
    "print(\"DCH: \", DCH)\n",
    "DCL = hex(DCHDCL & 0x3)\n",
    "print(\"DCL: \", DCL)"
   ]
  }
 ],
 "metadata": {
  "kernelspec": {
   "display_name": "Python 3",
   "language": "python",
   "name": "python3"
  },
  "language_info": {
   "codemirror_mode": {
    "name": "ipython",
    "version": 3
   },
   "file_extension": ".py",
   "mimetype": "text/x-python",
   "name": "python",
   "nbconvert_exporter": "python",
   "pygments_lexer": "ipython3",
   "version": "3.12.0"
  }
 },
 "nbformat": 4,
 "nbformat_minor": 2
}
